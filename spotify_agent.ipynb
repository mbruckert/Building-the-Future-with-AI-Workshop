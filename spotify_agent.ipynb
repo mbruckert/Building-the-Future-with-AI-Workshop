{
 "cells": [
  {
   "cell_type": "code",
   "execution_count": null,
   "id": "d97cd4a4-c444-4da0-899b-eb20a786997a",
   "metadata": {},
   "outputs": [],
   "source": [
    "!wget https://raw.githubusercontent.com/APIs-guru/openapi-directory/main/APIs/spotify.com/1.0.0/openapi.yaml\n",
    "!mv openapi.yaml spotify_openapi.yaml"
   ]
  },
  {
   "cell_type": "code",
   "execution_count": null,
   "id": "8b28058e-46c8-4cd0-9dce-c5f306f7dff0",
   "metadata": {},
   "outputs": [],
   "source": [
    "!pip install langchain --upgrade\n",
    "!pip install spotipy\n",
    "!pip install replicate\n",
    "!pip install python-dotenv"
   ]
  },
  {
   "cell_type": "code",
   "execution_count": null,
   "id": "4db74aa5-16e8-4c7e-baf1-2b4449c42ef4",
   "metadata": {},
   "outputs": [],
   "source": [
    "import os, yaml\n",
    "from langchain.agents.agent_toolkits.openapi.spec import reduce_openapi_spec"
   ]
  },
  {
   "cell_type": "code",
   "execution_count": null,
   "id": "7d59f175-6991-4e13-9470-ed02fa62b9cf",
   "metadata": {},
   "outputs": [],
   "source": [
    "with open(\"spotify_openapi.yaml\") as f:\n",
    "    raw_spotify_api_spec = yaml.load(f, Loader=yaml.Loader)\n",
    "spotify_api_spec = reduce_openapi_spec(raw_spotify_api_spec)"
   ]
  },
  {
   "cell_type": "code",
   "execution_count": null,
   "id": "8ff19b00-c0b9-4692-afec-3ecb9bac3502",
   "metadata": {},
   "outputs": [],
   "source": [
    "import spotipy.util as util\n",
    "from langchain.requests import RequestsWrapper\n",
    "from decouple import config\n",
    "\n",
    "from dotenv import load_dotenv\n",
    "load_dotenv()\n",
    "\n",
    "def construct_spotify_auth_headers(raw_spec: dict):\n",
    "    scopes = list(raw_spec['components']['securitySchemes']['oauth_2_0']['flows']['authorizationCode']['scopes'].keys())\n",
    "    access_token = util.prompt_for_user_token(scope=','.join(scopes))\n",
    "    return {\n",
    "        'Authorization': f'Bearer {access_token}'\n",
    "    }\n",
    "\n",
    "headers = construct_spotify_auth_headers(raw_spotify_api_spec)\n",
    "print(headers)\n",
    "requests_wrapper = RequestsWrapper(headers=headers)"
   ]
  },
  {
   "cell_type": "code",
   "execution_count": null,
   "id": "7c1fb496-c2c5-4b69-9957-84087d0e4de5",
   "metadata": {},
   "outputs": [],
   "source": [
    "from langchain.llms.openai import OpenAI\n",
    "from langchain.agents.agent_toolkits.openapi import planner\n",
    "from langchain.agents import ZeroShotAgent, Tool, AgentExecutor\n",
    "from langchain import OpenAI, SerpAPIWrapper, LLMChain\n",
    "from langchain.utilities import SerpAPIWrapper\n",
    "\n",
    "llm = OpenAI(model_name=\"gpt-4\", temperature=0.0)\n",
    "\n",
    "spotify_agent = planner.create_openapi_agent(spotify_api_spec, requests_wrapper, llm)\n",
    "\n",
    "search = SerpAPIWrapper()\n",
    "\n",
    "tools = [\n",
    "    Tool(\n",
    "        name=\"SpotifyAPI\",\n",
    "        func=spotify_agent,\n",
    "        description=\"Useful for getting information from the spotify api. pass the entire task to be completed in spotify, as this tool can support multiple steps\"\n",
    "    ),\n",
    "    Tool(\n",
    "        name=\"Google Search\",\n",
    "        func=search.run,\n",
    "        description=\"Useful for searching Google for songs that fit a particular prompt, musical history, musical facts, and more\"\n",
    "    )\n",
    "]\n",
    "\n",
    "prefix = \"\"\"You are a music assistant that helps create playlists. You have access to the following tools:\"\"\"\n",
    "suffix = \"\"\"Begin!\n",
    "\n",
    "Question: {input}\n",
    "{agent_scratchpad}\"\"\"\n",
    "\n",
    "prompt = ZeroShotAgent.create_prompt(\n",
    "    tools, \n",
    "    prefix=prefix, \n",
    "    suffix=suffix, \n",
    "    input_variables=[\"input\", \"agent_scratchpad\"]\n",
    ")\n",
    "\n",
    "llm_chain = LLMChain(llm=OpenAI(temperature=0), prompt=prompt)\n",
    "\n",
    "tool_names = [tool.name for tool in tools]\n",
    "agent = ZeroShotAgent(llm_chain=llm_chain, allowed_tools=tool_names)\n",
    "\n",
    "agent_executor = AgentExecutor.from_agent_and_tools(agent=agent, tools=tools, verbose=False)\n",
    "\n",
    "user_input = input(\"Please enter your message: \")\n",
    "agent_executor.run(user_input)"
   ]
  }
 ],
 "metadata": {
  "kernelspec": {
   "display_name": "Python 3 (ipykernel)",
   "language": "python",
   "name": "python3"
  },
  "language_info": {
   "codemirror_mode": {
    "name": "ipython",
    "version": 3
   },
   "file_extension": ".py",
   "mimetype": "text/x-python",
   "name": "python",
   "nbconvert_exporter": "python",
   "pygments_lexer": "ipython3",
   "version": "3.9.12"
  }
 },
 "nbformat": 4,
 "nbformat_minor": 5
}
